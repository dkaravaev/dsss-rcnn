{
 "cells": [
  {
   "cell_type": "code",
   "execution_count": 1,
   "metadata": {
    "scrolled": true
   },
   "outputs": [
    {
     "name": "stderr",
     "output_type": "stream",
     "text": [
      "Using Theano backend.\n",
      "/usr/local/lib/python3.6/dist-packages/skcuda/cublas.py:284: UserWarning: creating CUBLAS context to get version number\n",
      "  warnings.warn('creating CUBLAS context to get version number')\n",
      "/usr/local/lib/python3.6/dist-packages/theano/gpuarray/dnn.py:184: UserWarning: Your cuDNN version is more recent than Theano. If you encounter problems, try updating Theano or downgrading cuDNN to a version >= v5 and <= v7.\n",
      "  warnings.warn(\"Your cuDNN version is more recent than \"\n",
      "Using cuDNN version 7605 on context None\n",
      "Mapped name None to device cuda0: GeForce RTX 2070 SUPER (0000:01:00.0)\n"
     ]
    },
    {
     "name": "stdout",
     "output_type": "stream",
     "text": [
      "2.2.5\n"
     ]
    }
   ],
   "source": [
    "import keras\n",
    "\n",
    "import scipy.io\n",
    "\n",
    "import scipy.signal as ss\n",
    "\n",
    "import numpy as np\n",
    "import matplotlib.pyplot as plt\n",
    "\n",
    "\n",
    "import theano.tensor as T\n",
    "import theano.tensor.fft as TF\n",
    "\n",
    "import keras.backend as K\n",
    "\n",
    "\n",
    "from keras import models\n",
    "from keras import optimizers\n",
    "from keras import regularizers\n",
    "from keras import layers\n",
    "from keras import utils\n",
    "from keras import metrics\n",
    "from keras import activations\n",
    "\n",
    "from keras.layers import Layer, InputSpec\n",
    "from keras.utils  import conv_utils\n",
    "\n",
    "\n",
    "from complexnn.activations import *\n",
    "from complexnn.loss        import *\n",
    "from complexnn.pool        import *\n",
    "from complexnn.utils       import *\n",
    "\n",
    "from fb.conv      import *\n",
    "from fb.analysis  import *\n",
    "from fb.synthesis import * \n",
    "from fb.resample  import *\n",
    "from fb.models    import DyadicNet, PacketNet, DummyNet\n",
    "from fb.contra    import FBLMS, RLMS\n",
    "\n",
    "from datasets.signal import *\n",
    "from datasets.interf import *\n",
    "from datasets.utils  import *\n",
    "from datasets.fading import *\n",
    "\n",
    "\n",
    "from sklearn.model_selection import train_test_split\n",
    "\n",
    "print(keras.__version__)\n",
    "\n",
    "%load_ext autoreload\n",
    "%autoreload 2"
   ]
  },
  {
   "cell_type": "code",
   "execution_count": 2,
   "metadata": {},
   "outputs": [],
   "source": [
    "class CFAR1D:\n",
    "    def __init__(self, guard, train, Pfa=1E-5):\n",
    "        self.fir = np.ones(shape=(2 * (guard + train) + 1, ))\n",
    "        self.fir[train : train + 2 * guard + 1] = 0\n",
    "        \n",
    "        N = np.sum(self.fir)\n",
    "        self.T = N * (np.power(Pfa, -1.0 / N) - 1)\n",
    "        self.fir *= 1 / N\n",
    "        \n",
    "    def run(self, C):\n",
    "        No = scipy.signal.oaconvolve(C, self.fir, \"full\")[:C.shape[0]]\n",
    "        return ((C / No) > self.T) * C\n",
    "\n",
    "\n",
    "class DSSS(Signal):\n",
    "    @staticmethod\n",
    "    def generate_msr(length):\n",
    "        nbits= int(np.ceil(np.log2(length)))\n",
    "        pn, _ = ss.max_len_seq(nbits=nbits, length=length)\n",
    "        return 2.0 * pn - 1.0\n",
    "\n",
    "    @staticmethod\n",
    "    def generate_bits(length):\n",
    "        return np.random.randint(0, 2, length)\n",
    "\n",
    "    def __init__(self, Fs, W, Lc=2048, alpha=0.5, taps=32, Fc=0):\n",
    "        super(DSSS, self).__init__(Fs, W, Fc)\n",
    "\n",
    "        self.Tp = int(Fs / W)\n",
    "        self.Lc = Lc\n",
    "\n",
    "        self.Td = self.Lc * self.Tp\n",
    "        self.Ts = self.Tp / self.Fs\n",
    "        \n",
    "        self.qpsk = QPSK()\n",
    "\n",
    "        _, self.f = rrcosfilter(taps, alpha=alpha, Ts=self.Ts, Fs=self.Fs)\n",
    "        self.pn = scipy.signal.resample_poly(self.generate_msr(self.Lc), self.Tp, 1)\n",
    " \n",
    "    def generate_qpsk(self, N):\n",
    "        length = int(np.ceil(N / self.Td))\n",
    "        \n",
    "        self.bits = self.generate_bits(length * 2)\n",
    "        self.symbols = self.qpsk.modulate(self.bits)\n",
    "        \n",
    "        return np.repeat(self.symbols, self.Td)\n",
    "\n",
    "    def generate(self, N):\n",
    "        data = self.generate_qpsk(N)\n",
    "        \n",
    "        m = data.shape[0] // self.pn.shape[0]\n",
    "        pn = self.pn\n",
    "        for i in range(m):\n",
    "            pn = np.hstack((pn, self.pn))\n",
    "            \n",
    "        return data * pn[:data.shape[0]]\n",
    "    \n",
    "    def detect(self, S, cfar, sigma):\n",
    "        C = scipy.signal.oaconvolve(S, self.pn[::-1], mode='valid')\n",
    "        Ca = np.abs(C)\n",
    "        D = cfar.run(Ca)\n",
    "        \n",
    "        ret = 0\n",
    "        for i in range(1, D.shape[0] // self.pn.shape[0]):\n",
    "            ret += (np.sum(D[i * self.pn.shape[0] - sigma : \n",
    "                             i * self.pn.shape[0] + sigma]) > 0)\n",
    "        return ret / (D.shape[0] // self.pn.shape[0] - 1)\n",
    "    \n",
    "    def demodulate(self, S, cfar, ph = 0):\n",
    "        C = scipy.signal.oaconvolve(S, self.pn[::-1], mode='valid')\n",
    "        Ca = np.abs(C)\n",
    "        D = cfar.run(Ca)\n",
    "        \n",
    "        Sm = np.exp(-1j * ph) * ((D > 0) * C)[::self.Td]\n",
    "        Dm = (D > 0)[::self.Td]\n",
    "        Bh = np.int32(self.qpsk.demodulate(Sm))\n",
    "        return Bh, Dm\n",
    "    \n",
    "    def calc_metrics(self, S, cfar, ph = 0):\n",
    "        Bh, Dm = self.demodulate(S, cfar, ph)\n",
    "        B = self.bits\n",
    "        \n",
    "        ret = 0\n",
    "        for i in range(Bh.shape[0]):\n",
    "            if Dm[i // 2] == 1:\n",
    "                ret += np.abs(Bh[i] - B[i])\n",
    "        \n",
    "        return ret / Bh.shape[0], np.mean(Dm)\n",
    "    \n",
    "class PeakConstrainedRegularizer(regularizers.Regularizer):\n",
    "    def __init__(self, kappa):\n",
    "        self.kappa = kappa\n",
    "        self.mu    = (1 / self.kappa)\n",
    "\n",
    "    def __call__(self, h):\n",
    "        l = h._keras_shape[0]\n",
    "        if l == 1:\n",
    "            return 0\n",
    "        \n",
    "        m = l // 2\n",
    "        if l % 2 == 0:\n",
    "             m -= 1\n",
    "        \n",
    "        h0 = K.sum(h[m, :, :] ** 2)\n",
    "        h1 = K.sum(h[m + 1:, :, :] ** 2) + K.sum(h[0:m, :, :] ** 2)\n",
    "        \n",
    "        return self.mu * K.abs(h0 - l * h1)\n",
    "\n",
    "    def get_config(self):\n",
    "        return {'kappa': self.kappa, 'mu' : self.mu}    "
   ]
  },
  {
   "cell_type": "code",
   "execution_count": 10,
   "metadata": {},
   "outputs": [],
   "source": [
    "B = 256\n",
    "N = 1024\n",
    "M = 128 * N * 2 + B\n",
    "\n",
    "Fs = 2E6\n",
    "\n",
    "SIRdB, SNRdB = -30, -10\n",
    "\n",
    "dsss = DSSS(Fs=Fs, W=0.5 * Fs, Lc=N, alpha=0.01, taps=257)\n",
    "St = dsss.generate(M)[:]\n",
    "\n",
    "G = dsss.pn.shape[0]\n",
    "\n",
    "gen = InfrGenerator([NoiseInfr], SIRdB=SIRdB, W=Fs/50, M=2 * 2048, Fs=Fs)\n",
    "No  = NoiseSignal(Fs=Fs, W=Fs, Fc=0).generate(St.shape[0])[:St.shape[0]]\n",
    "No *= np.std(St) / (10 ** (SNRdB / 20))\n",
    "\n",
    "Fc = 200\n",
    "Sx = (St + No) * np.exp(1j * 2 * np.pi * Fc * (np.arange(0, St.shape[0]) / Fs))\n",
    "\n",
    "X, y, Sr = gen.dataset(Sx, G)\n",
    "X, y = X[:G * B // 2], y[:G * B // 2]\n",
    "X_train, X_test, y_train, y_test = train_test_split(X, y, test_size=0.0625, shuffle=True)"
   ]
  },
  {
   "cell_type": "code",
   "execution_count": 11,
   "metadata": {},
   "outputs": [
    {
     "data": {
      "image/png": "[encoded data removed]",
      "text/plain": [
       "<Figure size 432x288 with 1 Axes>"
      ]
     },
     "metadata": {
      "needs_background": "light"
     },
     "output_type": "display_data"
    }
   ],
   "source": [
    "plt.psd(Sr, NFFT=G, Fs=1)\n",
    "plt.show()"
   ]
  },
  {
   "cell_type": "code",
   "execution_count": 13,
   "metadata": {},
   "outputs": [
    {
     "name": "stdout",
     "output_type": "stream",
     "text": [
      "Train on 245760 samples, validate on 16384 samples\n",
      "Epoch 1/1\n",
      "245760/245760 [==============================] - 12s 49us/step - loss: 61.5081 - WelchKL: 0.7213 - val_loss: 0.6319 - val_WelchKL: 0.2124\n"
     ]
    },
    {
     "data": {
      "image/png": "[encoded data removed]",
      "text/plain": [
       "<Figure size 432x288 with 1 Axes>"
      ]
     },
     "metadata": {
      "needs_background": "light"
     },
     "output_type": "display_data"
    },
    {
     "data": {
      "image/png": "[encoded data removed]",
      "text/plain": [
       "<Figure size 432x288 with 1 Axes>"
      ]
     },
     "metadata": {
      "needs_background": "light"
     },
     "output_type": "display_data"
    }
   ],
   "source": [
    "window = 'blackmanharris'\n",
    "\n",
    "snapshot = WelchKL.compute_snapshot(St, G, window=window)\n",
    "loss     = WelchKL(snapshot=snapshot, window=window)\n",
    "\n",
    "reg = PeakConstrainedRegularizer(kappa=0.01)\n",
    "\n",
    "L = 6\n",
    "taps = [(2**l + 1) for l in range(1, L + 1)]\n",
    "\n",
    "model = DummyNet(N=G, B=B, comp='simple', taps=taps, regularizer=reg, use_factor=False, L=L)\n",
    "\n",
    "model.set_activation(Linear)\n",
    "model.set_analysis(ConvSimple)\n",
    "model.set_synthesis(WeightedSum)\n",
    "        \n",
    "model.build()\n",
    "model.compile(optimizers.Nadam(lr=0.0005), loss)\n",
    "\n",
    "_ = model.train(X_train, y_train, X_test, y_test, epochs=1, batch_size=B)\n",
    "\n",
    "ir = model.IR(taps=2**(L+1)+1)\n",
    "\n",
    "plt.plot(np.abs(ir))\n",
    "plt.grid(True)\n",
    "plt.show()\n",
    "\n",
    "Sth = scipy.signal.convolve(Sr, ir, mode=\"full\")\n",
    "plt.psd(Sth, NFFT=2 * N, Fs=1)\n",
    "plt.psd(Sr, NFFT=2 * N, Fs=1)\n",
    "plt.show()\n",
    "\n",
    "Ca = np.abs(scipy.signal.oaconvolve(Sth, dsss.pn[::-1], mode=\"valid\"))"
   ]
  }
 ],
 "metadata": {
  "kernelspec": {
   "display_name": "Python 3",
   "language": "python",
   "name": "python3"
  },
  "language_info": {
   "codemirror_mode": {
    "name": "ipython",
    "version": 3
   },
   "file_extension": ".py",
   "mimetype": "text/x-python",
   "name": "python",
   "nbconvert_exporter": "python",
   "pygments_lexer": "ipython3",
   "version": "3.6.9"
  }
 },
 "nbformat": 4,
 "nbformat_minor": 4
}
